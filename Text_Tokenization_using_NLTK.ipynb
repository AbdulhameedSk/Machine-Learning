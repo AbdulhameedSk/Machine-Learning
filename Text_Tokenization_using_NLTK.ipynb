{
  "nbformat": 4,
  "nbformat_minor": 0,
  "metadata": {
    "colab": {
      "provenance": [],
      "authorship_tag": "ABX9TyMrwg/ljTtIeVMa0klEKOPB",
      "include_colab_link": true
    },
    "kernelspec": {
      "name": "python3",
      "display_name": "Python 3"
    },
    "language_info": {
      "name": "python"
    }
  },
  "cells": [
    {
      "cell_type": "markdown",
      "metadata": {
        "id": "view-in-github",
        "colab_type": "text"
      },
      "source": [
        "<a href=\"https://colab.research.google.com/github/AbdulhameedSk/Machine-Learning/blob/main/Text_Tokenization_using_NLTK.ipynb\" target=\"_parent\"><img src=\"https://colab.research.google.com/assets/colab-badge.svg\" alt=\"Open In Colab\"/></a>"
      ]
    },
    {
      "cell_type": "code",
      "execution_count": 31,
      "metadata": {
        "colab": {
          "base_uri": "https://localhost:8080/"
        },
        "id": "40tXVnSpC2AH",
        "outputId": "dd0f9f00-ae6e-4b0f-d14d-f10e6f5f7ad8"
      },
      "outputs": [
        {
          "output_type": "stream",
          "name": "stderr",
          "text": [
            "[nltk_data] Downloading package punkt to /root/nltk_data...\n",
            "[nltk_data]   Package punkt is already up-to-date!\n"
          ]
        },
        {
          "output_type": "execute_result",
          "data": {
            "text/plain": [
              "True"
            ]
          },
          "metadata": {},
          "execution_count": 31
        }
      ],
      "source": [
        "import nltk\n",
        "nltk.download('punkt')"
      ]
    },
    {
      "cell_type": "code",
      "source": [],
      "metadata": {
        "id": "nyp-Zj7vFFlX"
      },
      "execution_count": 31,
      "outputs": []
    },
    {
      "cell_type": "code",
      "source": [
        "#word Tokenization\n",
        "from nltk.tokenize import word_tokenize\n",
        "text=['I','Love','Her','Because','She','Has','Beautiful','Eyes']\n",
        "text_string=' '.join(text)\n",
        "tokens=word_tokenize(text_string)"
      ],
      "metadata": {
        "id": "ChMqDmTrDe-C"
      },
      "execution_count": 32,
      "outputs": []
    },
    {
      "cell_type": "code",
      "source": [
        "print(text_string)\n",
        "print(tokens)"
      ],
      "metadata": {
        "colab": {
          "base_uri": "https://localhost:8080/"
        },
        "id": "A1QbLYPkF_By",
        "outputId": "ee1e7796-d95c-40f7-b334-a36b4ed96c4f"
      },
      "execution_count": 33,
      "outputs": [
        {
          "output_type": "stream",
          "name": "stdout",
          "text": [
            "I Love Her Because She Has Beautiful Eyes\n",
            "['I', 'Love', 'Her', 'Because', 'She', 'Has', 'Beautiful', 'Eyes']\n"
          ]
        }
      ]
    },
    {
      "cell_type": "code",
      "source": [
        "from nltk import sent_tokenize\n",
        "\n",
        "text = \"I love her. Because she has beautiful eyes.\"\n",
        "sentences = sent_tokenize(text)\n"
      ],
      "metadata": {
        "id": "U2R8gP2bD3OF"
      },
      "execution_count": 34,
      "outputs": []
    },
    {
      "cell_type": "code",
      "source": [
        "print(sentences)"
      ],
      "metadata": {
        "colab": {
          "base_uri": "https://localhost:8080/"
        },
        "id": "eHNicm0hEdm9",
        "outputId": "8018e89e-fd54-47f3-f95f-6be74acdfce4"
      },
      "execution_count": 35,
      "outputs": [
        {
          "output_type": "stream",
          "name": "stdout",
          "text": [
            "['I love her.', 'Because she has beautiful eyes.']\n"
          ]
        }
      ]
    },
    {
      "cell_type": "code",
      "source": [],
      "metadata": {
        "id": "H_HnEgLtEg9_"
      },
      "execution_count": 35,
      "outputs": []
    }
  ]
}