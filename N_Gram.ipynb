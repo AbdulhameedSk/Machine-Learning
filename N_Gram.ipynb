{
  "nbformat": 4,
  "nbformat_minor": 0,
  "metadata": {
    "colab": {
      "provenance": [],
      "authorship_tag": "ABX9TyOn2UCOlOyFHUHn3JqryNc4",
      "include_colab_link": true
    },
    "kernelspec": {
      "name": "python3",
      "display_name": "Python 3"
    },
    "language_info": {
      "name": "python"
    }
  },
  "cells": [
    {
      "cell_type": "markdown",
      "metadata": {
        "id": "view-in-github",
        "colab_type": "text"
      },
      "source": [
        "<a href=\"https://colab.research.google.com/github/AbdulhameedSk/Machine-Learning/blob/main/N_Gram.ipynb\" target=\"_parent\"><img src=\"https://colab.research.google.com/assets/colab-badge.svg\" alt=\"Open In Colab\"/></a>"
      ]
    },
    {
      "cell_type": "code",
      "execution_count": 14,
      "metadata": {
        "colab": {
          "base_uri": "https://localhost:8080/"
        },
        "id": "183Kd87S3G5m",
        "outputId": "e8a235d5-14a8-4153-954e-1f885058158e"
      },
      "outputs": [
        {
          "output_type": "stream",
          "name": "stderr",
          "text": [
            "[nltk_data] Downloading package reuters to /root/nltk_data...\n",
            "[nltk_data]   Package reuters is already up-to-date!\n"
          ]
        },
        {
          "output_type": "stream",
          "name": "stdout",
          "text": [
            "Next word options for '('This', 'is', 'an')': []\n"
          ]
        }
      ],
      "source": [
        "import nltk\n",
        "from nltk.corpus import reuters\n",
        "from nltk.util import ngrams\n",
        "\n",
        "# Download the Reuters corpus\n",
        "nltk.download('reuters')\n",
        "\n",
        "# Tokenize the Reuters corpus into words\n",
        "words = reuters.words()\n",
        "\n",
        "# Define the order of the N-gram (e.g., 2 for bigrams, 3 for trigrams, etc.)\n",
        "n = 3\n",
        "\n",
        "# Generate N-grams from the words\n",
        "ngrams_model = list(ngrams(words, n))\n",
        "\n",
        "# Example usage: Generate the next word given a prefix\n",
        "prefix = ('This', 'is', 'an')\n",
        "next_word_options = [gram[-1] for gram in ngrams_model if gram[:-1] == prefix]\n",
        "print(f\"Next word options for '{prefix}': {next_word_options}\")\n"
      ]
    },
    {
      "cell_type": "code",
      "source": [
        "import nltk\n",
        "from nltk.corpus import reuters\n",
        "from nltk.util import ngrams"
      ],
      "metadata": {
        "id": "rr8m9q2M3lLK"
      },
      "execution_count": 15,
      "outputs": []
    },
    {
      "cell_type": "code",
      "source": [
        "nltk.download('reuters')"
      ],
      "metadata": {
        "colab": {
          "base_uri": "https://localhost:8080/"
        },
        "id": "Wfa9zFkH5XeY",
        "outputId": "92a7b78e-ea38-45eb-f474-21d943bd4918"
      },
      "execution_count": 16,
      "outputs": [
        {
          "output_type": "stream",
          "name": "stderr",
          "text": [
            "[nltk_data] Downloading package reuters to /root/nltk_data...\n",
            "[nltk_data]   Package reuters is already up-to-date!\n"
          ]
        },
        {
          "output_type": "execute_result",
          "data": {
            "text/plain": [
              "True"
            ]
          },
          "metadata": {},
          "execution_count": 16
        }
      ]
    },
    {
      "cell_type": "code",
      "source": [
        "words=reuters.words()"
      ],
      "metadata": {
        "id": "Xz1dzjiq5vVb"
      },
      "execution_count": 17,
      "outputs": []
    },
    {
      "cell_type": "code",
      "source": [
        "#Defining order of N-gram\n",
        "n=3\n",
        "ngrams_model=list(ngrams(words,n))"
      ],
      "metadata": {
        "id": "G3sQh_Y75x10"
      },
      "execution_count": 18,
      "outputs": []
    },
    {
      "cell_type": "code",
      "source": [
        "prefix = ('This', 'is', 'an')\n",
        "matching_ngrams = [gram for gram in ngrams_model if gram[:-1] == prefix]\n",
        "\n",
        "if matching_ngrams:\n",
        "    next_word = random.choice(matching_ngrams)[-1]\n",
        "    print(f\"Next word for '{prefix}': {next_word}\")\n",
        "else:\n",
        "    print(f\"No next word options found for '{prefix}'\")"
      ],
      "metadata": {
        "colab": {
          "base_uri": "https://localhost:8080/"
        },
        "id": "ulQ84hJM5_N5",
        "outputId": "dbc58790-02f5-4f93-a056-3188e34dcc8d"
      },
      "execution_count": 19,
      "outputs": [
        {
          "output_type": "stream",
          "name": "stdout",
          "text": [
            "No next word options found for '('This', 'is', 'an')'\n"
          ]
        }
      ]
    }
  ]
}