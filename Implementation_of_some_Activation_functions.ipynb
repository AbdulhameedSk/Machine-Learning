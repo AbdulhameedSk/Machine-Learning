{
  "nbformat": 4,
  "nbformat_minor": 0,
  "metadata": {
    "colab": {
      "provenance": [],
      "authorship_tag": "ABX9TyPlhBLYpjxgdqogj+mqMl0j",
      "include_colab_link": true
    },
    "kernelspec": {
      "name": "python3",
      "display_name": "Python 3"
    },
    "language_info": {
      "name": "python"
    }
  },
  "cells": [
    {
      "cell_type": "markdown",
      "metadata": {
        "id": "view-in-github",
        "colab_type": "text"
      },
      "source": [
        "<a href=\"https://colab.research.google.com/github/AbdulhameedSk/Machine-Learning/blob/main/Implementation_of_some_Activation_functions.ipynb\" target=\"_parent\"><img src=\"https://colab.research.google.com/assets/colab-badge.svg\" alt=\"Open In Colab\"/></a>"
      ]
    },
    {
      "cell_type": "code",
      "execution_count": 2,
      "metadata": {
        "id": "bcccVr9m_Z0d"
      },
      "outputs": [],
      "source": [
        "#Sigmoid\n",
        "import numpy as np\n",
        "def sigmoid(x):\n",
        "  return 1/1+np.exp(-x)"
      ]
    },
    {
      "cell_type": "code",
      "source": [
        "#Tanh\n",
        "import numpy as np\n",
        "def tanh(x):\n",
        "  return np.tanh(x)"
      ],
      "metadata": {
        "id": "8rhWK3R3BBIq"
      },
      "execution_count": 4,
      "outputs": []
    },
    {
      "cell_type": "code",
      "source": [
        "# ReLU (Rectified Linear Unit) Function\n",
        "import numpy as np\n",
        "def relu(x):\n",
        "  return np.relu(x)"
      ],
      "metadata": {
        "id": "40xcu1zmBR8B"
      },
      "execution_count": 5,
      "outputs": []
    },
    {
      "cell_type": "code",
      "source": [
        "#Softmax Function\n",
        "def softmax(x):\n",
        "  e_x = np.exp(x - np.max(x))\n",
        "  return e_x / np.sum(e_x, axis=0)"
      ],
      "metadata": {
        "id": "Pj5_TPQtBeVi"
      },
      "execution_count": 7,
      "outputs": []
    },
    {
      "cell_type": "code",
      "source": [],
      "metadata": {
        "id": "gORGyeh_BzHL"
      },
      "execution_count": null,
      "outputs": []
    }
  ]
}