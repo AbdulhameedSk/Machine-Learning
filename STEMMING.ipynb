{
  "nbformat": 4,
  "nbformat_minor": 0,
  "metadata": {
    "colab": {
      "provenance": [],
      "authorship_tag": "ABX9TyM47m97vv9u8fR/f25toB7e",
      "include_colab_link": true
    },
    "kernelspec": {
      "name": "python3",
      "display_name": "Python 3"
    },
    "language_info": {
      "name": "python"
    }
  },
  "cells": [
    {
      "cell_type": "markdown",
      "metadata": {
        "id": "view-in-github",
        "colab_type": "text"
      },
      "source": [
        "<a href=\"https://colab.research.google.com/github/AbdulhameedSk/Machine-Learning/blob/main/STEMMING.ipynb\" target=\"_parent\"><img src=\"https://colab.research.google.com/assets/colab-badge.svg\" alt=\"Open In Colab\"/></a>"
      ]
    },
    {
      "cell_type": "code",
      "execution_count": 6,
      "metadata": {
        "colab": {
          "base_uri": "https://localhost:8080/"
        },
        "id": "mK_T65xL30z3",
        "outputId": "11c2e2d8-fda8-4709-b995-26de2820ad74"
      },
      "outputs": [
        {
          "output_type": "stream",
          "name": "stderr",
          "text": [
            "[nltk_data] Downloading package punkt to /root/nltk_data...\n",
            "[nltk_data]   Unzipping tokenizers/punkt.zip.\n"
          ]
        }
      ],
      "source": [
        "import nltk\n",
        "nltk.download('punkt')\n",
        "from nltk.stem import PorterStemmer\n",
        "from nltk.tokenize import word_tokenize"
      ]
    },
    {
      "cell_type": "code",
      "source": [
        "# Example text for stemming\n",
        "text = \"I am loving this weather and enjoying the outdoors. I will go for a walk \""
      ],
      "metadata": {
        "id": "XuTcDAa9349T"
      },
      "execution_count": 7,
      "outputs": []
    },
    {
      "cell_type": "code",
      "source": [
        "# Tokenize the text\n",
        "tokens = word_tokenize(text)\n"
      ],
      "metadata": {
        "id": "TDtQcM0437Qp"
      },
      "execution_count": 8,
      "outputs": []
    },
    {
      "cell_type": "code",
      "source": [
        "# Initialize the Porter stemmer\n",
        "stemmer = PorterStemmer()"
      ],
      "metadata": {
        "id": "Ien_dL_o4EoR"
      },
      "execution_count": 9,
      "outputs": []
    },
    {
      "cell_type": "code",
      "source": [
        "# Apply stemming to each token\n",
        "stemmed_tokens = [stemmer.stem(token) for token in tokens]"
      ],
      "metadata": {
        "id": "blkrbiBw4Tve"
      },
      "execution_count": 10,
      "outputs": []
    },
    {
      "cell_type": "code",
      "source": [
        "# Join the stemmed tokens back into a normalized text\n",
        "normalized_text = ' '.join(stemmed_tokens)"
      ],
      "metadata": {
        "id": "zrpXoDkI4XWW"
      },
      "execution_count": 11,
      "outputs": []
    },
    {
      "cell_type": "code",
      "source": [
        "# Print the original text and the normalized text\n",
        "print(\"Original Text:\", text)\n",
        "print(\"Normalized Text:\", normalized_text)"
      ],
      "metadata": {
        "colab": {
          "base_uri": "https://localhost:8080/"
        },
        "id": "YCey4DEg4arD",
        "outputId": "2d2c93eb-4c04-48fb-b64f-61786834aa88"
      },
      "execution_count": 12,
      "outputs": [
        {
          "output_type": "stream",
          "name": "stdout",
          "text": [
            "Original Text: I am loving this weather and enjoying the outdoors. I will go for a walk \n",
            "Normalized Text: i am love thi weather and enjoy the outdoor . i will go for a walk\n"
          ]
        }
      ]
    },
    {
      "cell_type": "code",
      "source": [],
      "metadata": {
        "id": "bCZ3oW_74bPX"
      },
      "execution_count": null,
      "outputs": []
    }
  ]
}